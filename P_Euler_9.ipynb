{
 "cells": [
  {
   "cell_type": "code",
   "execution_count": 9,
   "metadata": {},
   "outputs": [],
   "source": [
    "def find_pytha():\n",
    "    p_list=[]\n",
    "    i=1\n",
    "    sum=0\n",
    "    if_p=False\n",
    "    for a in range(1,900):\n",
    "        for b in range(1,900):\n",
    "            for c in range(1,900):\n",
    "                if(a**2+b**2)==c**2:\n",
    "                    if(a+b+c==1000):\n",
    "                        p_list.append(a)\n",
    "                        p_list.append(b)\n",
    "                        p_list.append(c)\n",
    "                        return p_list\n",
    "                   "
   ]
  },
  {
   "cell_type": "code",
   "execution_count": 10,
   "metadata": {},
   "outputs": [
    {
     "name": "stdout",
     "output_type": "stream",
     "text": [
      "[200, 375, 425]\n"
     ]
    }
   ],
   "source": [
    "print(find_pytha())"
   ]
  },
  {
   "cell_type": "code",
   "execution_count": 11,
   "metadata": {},
   "outputs": [
    {
     "name": "stdout",
     "output_type": "stream",
     "text": [
      "31875000\n"
     ]
    }
   ],
   "source": [
    "print(200*375*425)"
   ]
  },
  {
   "cell_type": "code",
   "execution_count": null,
   "metadata": {},
   "outputs": [],
   "source": []
  }
 ],
 "metadata": {
  "kernelspec": {
   "display_name": "Python 3",
   "language": "python",
   "name": "python3"
  },
  "language_info": {
   "codemirror_mode": {
    "name": "ipython",
    "version": 3
   },
   "file_extension": ".py",
   "mimetype": "text/x-python",
   "name": "python",
   "nbconvert_exporter": "python",
   "pygments_lexer": "ipython3",
   "version": "3.6.4"
  }
 },
 "nbformat": 4,
 "nbformat_minor": 2
}
