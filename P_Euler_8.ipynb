{
 "cells": [
  {
   "cell_type": "code",
   "execution_count": 6,
   "metadata": {},
   "outputs": [],
   "source": [
    "import numpy as np    "
   ]
  },
  {
   "cell_type": "code",
   "execution_count": 7,
   "metadata": {},
   "outputs": [],
   "source": [
    "f=open(\"P_8.txt\",'r')"
   ]
  },
  {
   "cell_type": "code",
   "execution_count": 8,
   "metadata": {},
   "outputs": [
    {
     "name": "stdout",
     "output_type": "stream",
     "text": [
      "['73167176531330624919225119674426574742355349194934', '96983520312774506326239578318016984801869478851843', '85861560789112949495459501737958331952853208805511', '12540698747158523863050715693290963295227443043557', '66896648950445244523161731856403098711121722383113', '62229893423380308135336276614282806444486645238749', '30358907296290491560440772390713810515859307960866', '70172427121883998797908792274921901699720888093776', '65727333001053367881220235421809751254540594752243', '52584907711670556013604839586446706324415722155397', '53697817977846174064955149290862569321978468622482', '83972241375657056057490261407972968652414535100474', '82166370484403199890008895243450658541227588666881', '16427171479924442928230863465674813919123162824586', '17866458359124566529476545682848912883142607690042', '24219022671055626321111109370544217506941658960408', '07198403850962455444362981230987879927244284909188', '84580156166097919133875499200524063689912560717606', '05886116467109405077541002256983155200055935729725', '7163626956188267042825248360082325753042075296345']\n"
     ]
    }
   ],
   "source": [
    "numlist=[]\n",
    "while True:\n",
    "    line=f.readline()\n",
    "    line=line[:-1]\n",
    "    if not line:\n",
    "        break\n",
    "    numlist.append(line)\n",
    "f.close()\n",
    "print(numlist)"
   ]
  },
  {
   "cell_type": "code",
   "execution_count": 12,
   "metadata": {},
   "outputs": [],
   "source": [
    "def calc(num):\n",
    "    mult_list=[]\n",
    "    sub_numlist=[]\n",
    "    mul=1\n",
    "    for i in range(0,len(num)-5):\n",
    "        sub_numlist.clear()\n",
    "        mul=1\n",
    "        sub=num[i:i+5]\n",
    "        for j in range(0,5):\n",
    "            sub_numlist.append(int(sub[j]))\n",
    "        for subnums in sub_numlist:\n",
    "            mul*=subnums\n",
    "            mult_list.append(mul)\n",
    "    return max(mult_list)"
   ]
  },
  {
   "cell_type": "code",
   "execution_count": 13,
   "metadata": {},
   "outputs": [],
   "source": [
    "def find_max_mult(num_list):\n",
    "    max_list=[]\n",
    "    for num in num_list:\n",
    "        max_list.append(calc(num))\n",
    "    return max(max_list)"
   ]
  },
  {
   "cell_type": "code",
   "execution_count": 14,
   "metadata": {},
   "outputs": [
    {
     "name": "stdout",
     "output_type": "stream",
     "text": [
      "40824\n"
     ]
    }
   ],
   "source": [
    "print(find_max_mult(numlist))"
   ]
  },
  {
   "cell_type": "code",
   "execution_count": null,
   "metadata": {},
   "outputs": [],
   "source": []
  }
 ],
 "metadata": {
  "kernelspec": {
   "display_name": "Python 3",
   "language": "python",
   "name": "python3"
  },
  "language_info": {
   "codemirror_mode": {
    "name": "ipython",
    "version": 3
   },
   "file_extension": ".py",
   "mimetype": "text/x-python",
   "name": "python",
   "nbconvert_exporter": "python",
   "pygments_lexer": "ipython3",
   "version": "3.6.4"
  }
 },
 "nbformat": 4,
 "nbformat_minor": 2
}
